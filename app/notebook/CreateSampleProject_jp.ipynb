{
 "cells": [
  {
   "cell_type": "markdown",
   "id": "8fd1c267-de94-49ba-b141-f462e5395199",
   "metadata": {},
   "source": [
    "# ***Create Sample Project***"
   ]
  },
  {
   "cell_type": "markdown",
   "id": "47566714",
   "metadata": {},
   "source": [
    "### 0. このノートブックはEHECでのサンプルデータを用いたサンプルプロジェクトを作製するためのものです\n",
    "このノートブックは、EHECのサンプルデータ(https://github.com/leech-rr/WGS_benchmark_dataset)を自動でダウンロードし、その解析を行うためのサンプルプロジェクトを作製します。</br>\n",
    "サンプルデータは、3件の集団感染事例（各5株、計15株）からなっています。解析プログラムの評価用にご使用ください。\n",
    "\n",
    "ご自身のデータを用いたプロジェクトを作製したい場合は、[CreateProject_jp.ipynb](CreateProject_jp.ipynb)をご利用ください。"
   ]
  },
  {
   "cell_type": "markdown",
   "id": "8b4bc73a-c1df-4bea-88a1-fa4c635a0071",
   "metadata": {
    "tags": []
   },
   "source": [
    "### 1. 例のように解析プロジェクト名を入力してください\n",
    "- 例. projectdir = \"ehec_sample_project\" <br>\n",
    "        →\"ehec_sample_project\"という名前のフォルダが**projectフォルダ中に**作製されます\n",
    "- スペースは含めないでください\n",
    "- 既存のフォルダ名は使わないでください\n",
    "- \"ehec_sample_project\"のままでも問題なく動作します。"
   ]
  },
  {
   "cell_type": "code",
   "execution_count": null,
   "id": "1127b9d4-d194-4112-9e65-cf5bcc5e9047",
   "metadata": {
    "tags": []
   },
   "outputs": [],
   "source": [
    "project_name = \"ehec_sample_project\""
   ]
  },
  {
   "cell_type": "markdown",
   "id": "4de2a5de-d0bb-474a-8821-1a79565c94b6",
   "metadata": {
    "tags": []
   },
   "source": [
    "### 2. 本ノートブック上部のRUN ALL(▶▶)を実行してください\n",
    "前項で指定したプロジェクトフォルダが**projectフォルダ中に**作製され、テンプレートから必要なファイルのコピーとサンプルデータのダウンロードが行われます。</br>\n",
    "サンプルデータのデータサイズが大きいため、ダウンロードにはしばらく時間がかかります。"
   ]
  },
  {
   "cell_type": "code",
   "execution_count": null,
   "id": "88386db9-54b5-49e4-99cc-2b2506fab409",
   "metadata": {
    "tags": []
   },
   "outputs": [],
   "source": [
    "# ダウンロードに使うスレッド数\n",
    "threads = 4\n",
    "\n",
    "################################\n",
    "### 以下は変更しないでください ###\n",
    "################################\n",
    "import shutil\n",
    "\n",
    "list = f'sample_data/ehec/sample_list'\n",
    "project_dir = f'project/{project_name}'\n",
    "shutil.copytree(f'template/jp', project_dir)\n",
    "shutil.copytree(f'sample_data/ehec', project_dir, dirs_exist_ok=True)\n",
    "\n",
    "!bash fasterq_dump.sh \\\n",
    "    -i $list \\\n",
    "    -t $threads \\\n",
    "    -o $project_dir\n",
    "!echo 'Complete!'\n"
   ]
  },
  {
   "cell_type": "markdown",
   "id": "a54b0752-be04-4b7a-be0f-937190904f38",
   "metadata": {
    "tags": []
   },
   "source": [
    "### 3. 作成されたプロジェクトフォルダに移動して、ノートブックを実行してください\n",
    "- 作成したプロジェクトフォルダは動かさないでください。ノートブックでエラーが発生する場合がございます。"
   ]
  }
 ],
 "metadata": {
  "kernelspec": {
   "display_name": "Python 3 (ipykernel)",
   "language": "python",
   "name": "python3"
  },
  "language_info": {
   "codemirror_mode": {
    "name": "ipython",
    "version": 3
   },
   "file_extension": ".py",
   "mimetype": "text/x-python",
   "name": "python",
   "nbconvert_exporter": "python",
   "pygments_lexer": "ipython3",
   "version": "3.11.10"
  }
 },
 "nbformat": 4,
 "nbformat_minor": 5
}
