{
 "cells": [
  {
   "cell_type": "markdown",
   "id": "9e8a37cb-3a8e-4b69-866d-dfbe8e5497a0",
   "metadata": {
    "tags": []
   },
   "source": [
    "# ***<font color=\"RoyalBlue\">SNP解析 </font>*** <font color=\"Tomato\"> Quick Start </font>\n"
   ]
  },
  {
   "cell_type": "markdown",
   "id": "b3e88517-f45d-4d6a-a4bc-dae1b876ac43",
   "metadata": {
    "tags": []
   },
   "source": [
    "##### _E. coli_ O157:H7 Sakai株を参照配列に、全てデフォルトのパラメーターでSNP解析する方法です。\n",
    "\n",
    "<br>\n",
    "\n",
    "***\n",
    "\n",
    "# ***<u><font color=\"RoyalBlue\">解析手順</font></u>***\n",
    "\n",
    "<font color=\"DarkOrange\">※ 解析前にデータのQuality check(grape_qc_asembly)を行うことを推奨</font>"
   ]
  },
  {
   "cell_type": "markdown",
   "id": "53549a6b-33cd-4ea3-ba02-fdd62dd28a08",
   "metadata": {},
   "source": [
    "## 1. 入力ファイルのアップロード\n",
    "\n",
    "解析プロジェクトのフォルダへ、FASTQファイルをアップロードしてください。  \n",
    "左サイドバー上部の⬆︎ボタンから、または、解析プロジェクトフォルダを開きファイルをドラック＆ドロップでアップロードできます。\n",
    "<br>\n",
    "\n",
    "\n",
    "使用できるファイルの拡張子は、`fastq.gz`です。<br>\n",
    "ファイル名は、菌株名で始まるようにしてください。<br>\n",
    "たとえば、以下のようなフォーマットに対応しています。\n",
    "\n",
    "- イルミナフォーマット（e.g., strain_S00_L001_R1_001.fastq.gz）\n",
    "- シンプルフォーマット（e.g., strain_R1.fastq.gz）\n"
   ]
  },
  {
   "cell_type": "markdown",
   "id": "67f416cb-bd58-4f40-b8af-9567f860c07c",
   "metadata": {},
   "source": [
    "## 2. 菌株リストの作成\n",
    "\n",
    "次のいずれかの方法で、菌株リストを作成します。\n",
    "\n",
    "### 2.1. Jupyter Labで作成する\n",
    "- 左サイドバー上部の「 + 」ボタン→「Other」の「Text file」を押下し、ファイルを新規作成できる。\n",
    "- 編集が完了したら、Ctrl＋s（Mac:Command+s）を押下し、ファイル名を設定して保存する。\n",
    "### 2.2.  Notepad、メモ帳、Vim等(何でも良い)で作成して、解析フォルダにコピーする。\n",
    "- Windowsで作成すると、正常に動かない可能性があります。（改行コードの違いのため）\n",
    "- LinuxまたはMacで作成してください。\n",
    "### 2.3. 下記コマンドで作成する。       \n",
    "- 「file_name = 」の後に、リスト名をダブルクオート(\")で囲って入力してください（例, \"ファイル名\") \n",
    "- 「user_input = (\"\"\"」の後に、菌株リストを入力してください（1行に1つの株名）。\n",
    "\n",
    "<font color=\"Tomato\">────────────── 　↓↓↓ 　***コマンド実行***　 ↓↓↓　 ──────────────</font>"
   ]
  },
  {
   "cell_type": "code",
   "execution_count": null,
   "id": "90308179-066e-40ce-8020-d383c20911fb",
   "metadata": {
    "tags": []
   },
   "outputs": [],
   "source": [
    "# リストのファイル名を入力\n",
    "file_name = \"list.txt\"\n",
    "\n",
    "# 菌株リストを貼り付ける\n",
    "user_input = (\"\"\"\n",
    "A0001\n",
    "A0002\n",
    "A0003\n",
    "A0004\n",
    "A0005\n",
    "A0006\n",
    "A0007\n",
    "A0008\n",
    "\"\"\"\n",
    ")\n",
    "\n",
    "# 前後の改行を除去後に改行追加\n",
    "user_input = user_input.strip(\"\\n\") + \"\\n\"\n",
    "\n",
    "# 入力された要素をファイルに書き込む\n",
    "with open(file_name, \"w\") as file:\n",
    "    file.write(user_input)\n",
    "!echo 'Complete!'"
   ]
  },
  {
   "cell_type": "markdown",
   "id": "6583dd80",
   "metadata": {},
   "source": [
    "<font color=\"Tomato\">────────────────────────────────────────────</font>\n",
    "<br>\n",
    "\n",
    "## 3. FASTQリストの作成\n",
    "\n",
    "2.で作成した菌株リスト中の各菌株に紐づくFASTQファイル名(ショートリードデータのファイル名)一覧の作成を以下の手順で行います。\n",
    "\n",
    "### 3.1. find_strain_pairs.pyの実行\n",
    "- 「file_name = 」の後に、前の項で作成した株名リスト名をダブルクオート(\")で囲って入力してください。 \n",
    "- `パラメータを設定`に記載されている内容で修正したいものがあれば修正し、実行してください。\n",
    "    - 記載されている内容のまま実行することも可能です。\n",
    "    \n",
    "<font color=\"Tomato\">────────────── 　↓↓↓ 　***コマンド実行***　 ↓↓↓　 ──────────────</font>"
   ]
  },
  {
   "cell_type": "code",
   "execution_count": null,
   "id": "d2ae4b82",
   "metadata": {},
   "outputs": [],
   "source": [
    "import subprocess\n",
    "\n",
    "####################################################\n",
    "# パラメータを設定\n",
    "####################################################\n",
    "# 2.で作成した菌株リストのファイル名を入力\n",
    "file_name = \"list.txt\"\n",
    "# FASTQファイルの拡張子を入力\n",
    "file_extension = \"fastq.gz\"\n",
    "# 作成するFASTQリストのファイル名\n",
    "fastq_list_name = \"list_fastq.tsv\"\n",
    "# ペアが見つからなかった菌株一覧のファイル名\n",
    "unpaired_list = \"unpaired_fastq.tsv\"\n",
    "\n",
    "####################################################\n",
    "# Run find_strain_pairs.py\n",
    "# ※以下は変更しないでください※\n",
    "####################################################\n",
    "command = [\n",
    "    \"find_strain_pairs.py\", file_name,\n",
    "    \"--file_extension\", file_extension,\n",
    "    \"--paired_list\", fastq_list_name,\n",
    "    \"--unpaired_list\", unpaired_list\n",
    "]\n",
    "subprocess.run(command, capture_output=False, text=True)\n",
    "!echo 'Complete!'"
   ]
  },
  {
   "cell_type": "markdown",
   "id": "7571f6d6",
   "metadata": {},
   "source": [
    "<font color=\"Tomato\">────────────────────────────────────────────</font>\n",
    "<br>\n",
    "\n",
    "### 3.2. FASTQリストの確認・修正\n",
    "- `list_fastq.tsv`(FASTQリスト)を開いて確認し、各菌株名に対し2つのFASTQファイル(Read1と2)名が正しく記載されていることを確認します。\n",
    "- `unpaired_fastq.tsv`を開いて確認し、FASTQファイルのペアが見つからなかった菌株がないか確認します。\n",
    "    - あった場合、`list_fastq.tsv`にその菌株名をコピーして、タブ区切りでFASTQファイルのペアを記載してください。\n",
    "- FASTQリストの記載例は以下の通りです(各列はタブ区切り、改行コードは\\n)。"
   ]
  },
  {
   "cell_type": "markdown",
   "id": "7b8b4ce6",
   "metadata": {},
   "source": [
    "```plaintxt\n",
    "strain1\tstrain1_R1.fastq.gz\tstrain1_R2.fastq.gz\n",
    "strain2\tstrain2_R1.fastq.gz\tstrain2_R2.fastq.gz\n",
    "```"
   ]
  },
  {
   "cell_type": "markdown",
   "id": "3eb7789e-5d4b-4e82-a2aa-b5cf855a6ebc",
   "metadata": {},
   "source": [
    "## 4. SNPcasterの実行\n",
    "<font color=\"DarkOrange\">※ 既にSNPcasterを行った株がある場合は、SNPフォルダ（株名のフォルダ）を実行フォルダに移動する。その株についてはBactSNPはスキップされ、SNPフォルダがない株においてのみBactSNPが実行される。<br>\n",
    "</font>\n",
    "\n",
    "<br>\n",
    "\n",
    "下記セル内のリスト部分（「list = \"list.txt\"」のダブルクオートで囲まれた部分）を作成したリスト名に変えて、実行する。\n",
    "\n",
    "#### オプション\n",
    "    *オプショナル。指定しなければ、デフォルト値で実行される。\n",
    "    ※cluster SNPは、組換え領域と考えてSNPから除去する領域。\n",
    "\n",
    "|パラメータ|説明|\n",
    "|---|---|\n",
    "|-r|参照配列のファイル名（例．ref.fasta）|\n",
    "|-i|菌株リスト（例．list）|\n",
    "|-a*|BactSNPの--allele_freqの値(デフォルトは0.9)|\n",
    "|-c*|隣接SNP (cluster SNP) で削除したい間隔(0を指定すると削除しない。デフォルトは0)|\n",
    "|-d*|マスクファイル(指定しない場合はマスク処理を行わない)|\n",
    "|-f*|fastq listのパス(BactSNPを実行する菌株がある場合は必須)|\n",
    "|-g*|gubbins実行するか否か (1:実行、0:実行しない) (デフォルトは0) |\n",
    "|-j*|BactSNPのジョブ数（デフォルトは4） |\n",
    "|-t*|スレッド数 (デフォルトは8) |\n",
    "\n",
    "#### ファイルフォーマット\n",
    "fastq listは以下のように菌株名とそれに紐づくRead1・2ファイル名を記載したtsv(タブ区切り)ファイルを指定する。\n",
    "```\n",
    "strain1 strain1_R1.fastq.gz strain1_R2.fastq.gz\n",
    "strain2 strain2_R1.fastq.gz strain2_R2.fastq.gz\n",
    "```\n",
    "\n",
    "<br>\n",
    "\n",
    "<font color=\"Tomato\">────────────── 　↓↓↓ 　***コマンド実行***　 ↓↓↓　 ──────────────</font>"
   ]
  },
  {
   "cell_type": "code",
   "execution_count": null,
   "id": "66b2499b-b115-4b44-8491-3484c3035c14",
   "metadata": {
    "tags": []
   },
   "outputs": [],
   "source": [
    "####################################################\n",
    "# パラメータを設定\n",
    "####################################################\n",
    "# 参照配列ファイル\n",
    "reference = '../../sample_data/ehec/Sakai_BA000007.fasta'\n",
    "# 菌株リストファイル\n",
    "list = \"list.txt\"\n",
    "# BactSNPのアレル頻度(--allele_freqの値)\n",
    "allele_freq = 0.9\n",
    "# 隣接SNP (cluster SNP) で削除したい間隔\n",
    "cluster = 0\n",
    "# gubbins実行する=1、しない=0\n",
    "gubbins = 0\n",
    "# BactSNPのジョブ数\n",
    "jobs = 4\n",
    "# スレッド数\n",
    "threads = 8\n",
    "# fastq リストを使用しない場合、以下のfastq_listの前に#を追加してください\n",
    "fastq_list = \"list_fastq.tsv\"\n",
    "# mask処理を行う場合、以下の行頭の#を削除し、そのファイルパスを\"\"の間に入力してください\n",
    "#mask = \"../../sample_data/ehec/mask.tsv\"\n",
    "\n",
    "####################################################\n",
    "# Run SNPcaster\n",
    "####################################################\n",
    "# \n",
    "extra_options = \"\"\n",
    "extra_options += f\"-f {fastq_list} \" if 'fastq_list' in locals() and fastq_list else \"\"\n",
    "extra_options += f\"-d {mask} \" if 'mask' in locals() and mask else \"\"\n",
    "\n",
    "!bash snpcaster.sh \\\n",
    "    -r $reference \\\n",
    "    -i $list \\\n",
    "    -a $allele_freq \\\n",
    "    -c $cluster \\\n",
    "    -g $gubbins \\\n",
    "    -j $jobs \\\n",
    "    -t $threads $extra_options\n",
    "!echo 'Complete!'"
   ]
  },
  {
   "cell_type": "markdown",
   "id": "d316d7a4-6459-41bb-963e-3bc07d383ef3",
   "metadata": {},
   "source": [
    "<font color=\"Tomato\">────────────────────────────────────────────</font>\n",
    "\n",
    "\n",
    "#### 出力されるファイルについて\n",
    "\n",
    "実行後、snpcaster_[日付]_[時間]_[リスト名]のフォルダが作製される。<br>\n",
    "\n",
    "***<font color=\"Red\">※\n",
    "    FASTQファイルが存在しない場合、エラーが出て終了する。<br>\n",
    "    FASTQファイルがない株のリストとして”missing_list”が出力される。<br></font>***\n",
    "\n",
    "<br>\n",
    "出力されるファイル、フォルダの内容や注意点等については詳細マニュアルを参照してください。<br>\n"
   ]
  },
  {
   "cell_type": "markdown",
   "id": "032b67e0-f961-4430-ab2c-af90c155a712",
   "metadata": {},
   "source": [
    "<br>\n",
    "\n",
    "## 5. 系統樹の作製\n",
    "\n",
    "得られたfinal_snp.fasta等を用いて、最尤法による系統樹作製（raxml-ng.sh）を実行する。<br>"
   ]
  },
  {
   "cell_type": "markdown",
   "id": "222a39df-4043-4e25-9943-8cbcdf63e60e",
   "metadata": {
    "tags": []
   },
   "source": [
    "### 5.1. RAxML-NGの実行\n",
    "  - 下記セルで、「input=」の後に解析するSNPファイルのパスを入れてください。\n",
    "  - 例. 'snpcaster_20240115_094704_list_test/3_results_without_gubbins/final_snp.fasta'<br>\n",
    "    ↑上記の例で、<u><font color=\"Red\">\"20240115_094704_list_test\"の部分は、解析ごとに異なります</u></font>ので注意してください。\n",
    "    \n",
    "  - 必要に応じて、参照配列の名前（デフォルトではRef）を変えたり、削除したりしてください。\n",
    "\n",
    "\n",
    "- コマンド\n",
    "  - bash snpcaster_20230821/raxml-ng.sh [input] [threads] [bootstrap]\n",
    "<br>\n",
    "- オプション\n",
    "|パラメータ|必須か|概要|\n",
    "|---|---|---|\n",
    "|input|●|入力ファイル (例 xxx.fasta)。Input alignment in PHYLIP/FASTA/NEXUS/CLUSTAL/MSF format|\n",
    "|threads|●|modeltest-ngのスレッド数 (例 12) ※ raxml-ngのスレッド数は自動選択|\n",
    "|bootstrap|-|bootstrap (デフォルトは1000)|\n",
    "\n",
    "<br>\n",
    "\n",
    "<font color=\"Tomato\">────────────── 　↓↓↓ 　***コマンド実行***　 ↓↓↓　 ──────────────</font><br>\n",
    "※ ログは、実行ディレクトリの`raxml-ng.log`を参照してください。（<u><font color=\"Red\">***実行のたびに上書きされます。***</u></font>）\n"
   ]
  },
  {
   "cell_type": "code",
   "execution_count": null,
   "id": "732dd987-bcff-44f5-90e1-c4bb16f8b5a6",
   "metadata": {
    "tags": []
   },
   "outputs": [],
   "source": [
    "####################################################\n",
    "# パラメータを設定\n",
    "####################################################\n",
    "input = 'snpcaster_20240115_094704_list_test/3_results_without_gubbins/final_snp.fasta'\n",
    "# Gubbinsを実行した結果を使いたい場合は、以下を使用してください。\n",
    "# 上記のinputの行を削除⇒以下の行頭の# を消す⇒'snpcaster_20240115_094704_list_test'の箇所をSNPcasterの結果フォルダ名に変更してください。\n",
    "# input = \"snpcaster_20240115_094704_list_test/5_results_with_gubbins/final_snp_after_gubbins.fasta\"\n",
    "threads = 8\n",
    "bootstrap = 1000\n",
    "\n",
    "####################################################\n",
    "# Run raxml-ng\n",
    "####################################################\n",
    "!bash raxml-ng.sh $input $threads $bootstrap > raxml-ng.log\n",
    "!echo 'Complete!'"
   ]
  },
  {
   "cell_type": "markdown",
   "id": "65f9e63c",
   "metadata": {},
   "source": [
    "<font color=\"Tomato\">────────────────────────────────────────────</font>\n",
    "<br>\n",
    "\n",
    "### 5.2. 系統樹ファイルの出力先\n",
    "  - RaxMLフォルダが作成され（raxml_results_日付_時間）、そこに系統樹ファイルが出力されます。\n",
    "  - そのフォルダ内の`final_snp.fasta_bootstrap.nwk`がブートストラップ値付きの系統樹ファイルです。\n",
    "<br>\n",
    "\n",
    "\n",
    "### 5.3. 系統樹ファイルの確認\n",
    "#### 5.3.1. 最尤法系統樹\n",
    "系統樹ファイルを、MEGA、CLC Genomics Workbench等で開く。<br>\n",
    "MEGAで画像保存する場合は、Image/Copy to Clipboard。MEGAでRootを含む画像保存する場合は、Rootとなる線を選んで「Place Root on Branch」を押して、「Show Subtree Separately」を使う。<br>\n",
    "<br>\n",
    "#### 5.3.2. ハプロタイプネットワーク図\n",
    "Minimum spanning tree等のハプロタイプネットワーク図の作製にはPopARTを用いる。\n",
    "snpcaster_日付_時間_list_test/3_results_without_gubbins フォルダ内のfinal_snp.nexを選択して開く。<br>\n",
    "※本ファイルはsnpcasterの結果作製されるため、RAxML-NGを実行する必要はない。\n"
   ]
  }
 ],
 "metadata": {
  "kernelspec": {
   "display_name": "Python 3 (ipykernel)",
   "language": "python",
   "name": "python3"
  },
  "language_info": {
   "codemirror_mode": {
    "name": "ipython",
    "version": 3
   },
   "file_extension": ".py",
   "mimetype": "text/x-python",
   "name": "python",
   "nbconvert_exporter": "python",
   "pygments_lexer": "ipython3",
   "version": "3.11.10"
  }
 },
 "nbformat": 4,
 "nbformat_minor": 5
}
