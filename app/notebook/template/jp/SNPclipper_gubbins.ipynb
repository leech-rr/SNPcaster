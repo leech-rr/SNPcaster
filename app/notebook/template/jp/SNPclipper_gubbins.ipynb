{
 "cells": [
  {
   "cell_type": "markdown",
   "id": "9e8a37cb-3a8e-4b69-866d-dfbe8e5497a0",
   "metadata": {
    "tags": []
   },
   "source": [
    "# ***<font color=\"RoyalBlue\">SNP解析 追加処理（SNPclipper/SNPcaster_gubbins） Notebook</font>***\n"
   ]
  },
  {
   "cell_type": "markdown",
   "id": "b3e88517-f45d-4d6a-a4bc-dae1b876ac43",
   "metadata": {
    "tags": []
   },
   "source": [
    "<br>\n",
    "<br>\n",
    "\n",
    "***\n",
    "\n",
    "# ***<u><font color=\"RoyalBlue\">解析手順</font></u>***\n",
    "\n",
    "<font color=\"DarkOrange\">※本notebookは、一度実行したSNPcasterの結果に対して条件を変えて追加の解析を行う方法を記載しています。</font></br>\n",
    "<font color=\"DarkOrange\">※もしまだSNPcasterを実行していない場合は、<b>SNPcaster_quickstart.ipynb</b>または<b>SNPcaster.ipynb</b>でSNPcasterを先に実行してください。</font>"
   ]
  },
  {
   "cell_type": "markdown",
   "id": "67f416cb-bd58-4f40-b8af-9567f860c07c",
   "metadata": {},
   "source": [
    "## 1. SNPcasterの実行\n",
    "\n",
    "もしまだSNPcasterを実行していない場合は、<b>SNPcaster_quickstart.ipynb</b>または<b>SNPcaster.ipynb</b>でSNPcasterを先に実行してください。"
   ]
  },
  {
   "cell_type": "markdown",
   "id": "aeb22db7-1d26-4306-a693-279f22e8c99d",
   "metadata": {},
   "source": [
    "## 2. 実行するプログラムの選択\n",
    "\n",
    "以下から、実施したい内容を確認し、対応する項目に移動してください。</br>\n",
    "#### - Gubbinsを使って組み換え領域を除去した結果を知りたい → <font color=\"Lime\"> <b>Go to 3</b></font><br>\n",
    "#### - クラスターSNPやマスキングの条件を変えた場合の結果を知りたい → <font color=\"Lime\"><b>Go to 4</font></b>\n"
   ]
  },
  {
   "cell_type": "markdown",
   "id": "24cf1440",
   "metadata": {},
   "source": [
    "## 3. Gubbinsの追加実行\n",
    "\n",
    "### 3-1. 実行方法\n",
    "Gubbins未実行のSNPcaster実行フォルダを指定することで、Gubbinsを実行できます。\n",
    "\n",
    "#### オプション\n",
    "    *オプショナル。指定しなければ、デフォルト値で実行される。\n",
    "\n",
    "|パラメータ|説明|\n",
    "|---|---|\n",
    "|-i |Gubbinsを追加実行する対象となるSNPcaster実行結果フォルダ |\n",
    "|-t*|スレッド数 (デフォルトは8) |\n",
    "\n",
    "<font color=\"Tomato\">────────────── 　↓↓↓ 　***コマンド実行***　 ↓↓↓　 ──────────────</font>"
   ]
  },
  {
   "cell_type": "code",
   "execution_count": null,
   "id": "a9e98b9b",
   "metadata": {},
   "outputs": [],
   "source": [
    "####################################################\n",
    "# パラメータを設定\n",
    "####################################################\n",
    "# SNPcasterの実行結果フォルダ\n",
    "input ='snpcaster_20240115_094704_list_test'\n",
    "# スレッド数\n",
    "threads = 8\n",
    "\n",
    "####################################################\n",
    "# Run snpcaster_gubbins.sh\n",
    "####################################################\n",
    "!bash snpcaster_gubbins.sh -i $input -t $threads\n",
    "!echo 'Complete!'"
   ]
  },
  {
   "cell_type": "markdown",
   "id": "734c5d3a",
   "metadata": {},
   "source": [
    "<font color=\"Tomato\">────────────────────────────────────────────</font>\n",
    "<br>\n",
    "### 3-2. 出力\n",
    "inputで指定したフォルダ中にGubbinsを使った処理結果である<b>4_results_gubbins</b>と<b>5_results_with_gubbins</b>が生成されます。</br>\n",
    "※出力ファイルの詳細は、<b>SNPcaster.ipynbの9.2出力</b>をご覧ください。</br>"
   ]
  },
  {
   "cell_type": "markdown",
   "id": "94dd0770",
   "metadata": {},
   "source": [
    "## 4. SNPclipperの実行\n",
    "\n",
    "SNPclipperは一度実行したSNPcasterの結果に対して、clusterSNPやマスキングの条件を変えた場合の実行結果を生成するツールです。<br>\n",
    "具体的には、SNPcaster実行結果の<b>3_results_without_gubbins</b>と<b>5_results_with_gubbins</b>を再生成します。<br>\n",
    "\n",
    "### 4-1. 実行方法\n",
    "SNPcasterの実行結果フォルダとclusterSNPやマスキングの条件を指定することで実行できます。\n",
    "\n",
    "#### オプション\n",
    "    *オプショナル。指定しなければ、デフォルト値で実行される。\n",
    "    ※cluster SNPは、組換え領域と考えてSNPから除去する領域。\n",
    "\n",
    "|パラメータ|説明|\n",
    "|---|---|\n",
    "|-i|SNPcaster実行結果フォルダ |\n",
    "|-c*|隣接SNP (cluster SNP) で削除したい間隔(0を指定すると削除しない。デフォルトは0)|\n",
    "|-d*|マスクファイル(指定しない場合はマスク処理を行わない)|\n",
    "|-t*|スレッド数 (デフォルトは8) |\n",
    "\n",
    "<font color=\"Tomato\">────────────── 　↓↓↓ 　***コマンド実行***　 ↓↓↓　 ──────────────</font>"
   ]
  },
  {
   "cell_type": "code",
   "execution_count": null,
   "id": "263b8a0b",
   "metadata": {},
   "outputs": [],
   "source": [
    "####################################################\n",
    "# パラメータを設定\n",
    "####################################################\n",
    "# SNPcasterの実行結果フォルダ\n",
    "input ='snpcaster_20240115_094704_list_test'\n",
    "# 隣接SNP (cluster SNP) で削除したい間隔\n",
    "cluster = 0\n",
    "# スレッド数\n",
    "threads = 8\n",
    "# mask処理を行う場合、以下の行頭の#を削除し、そのファイルパスを\"\"の間に入力してください\n",
    "#mask = \"mask.tsv\"\n",
    "\n",
    "####################################################\n",
    "# Run SNPclipper(以下は書き換えないでください)\n",
    "####################################################\n",
    "extra_options = \"\"\n",
    "extra_options += f\"-d {mask} \" if 'mask' in locals() and mask else \"\"\n",
    "\n",
    "!bash snpclipper.sh \\\n",
    "    -i $input \\\n",
    "    -c $cluster \\\n",
    "    -t $threads $extra_options\n",
    "!echo 'Complete!'"
   ]
  },
  {
   "cell_type": "markdown",
   "id": "6ea8f621",
   "metadata": {},
   "source": [
    "<font color=\"Tomato\">────────────────────────────────────────────</font>\n",
    "<br>\n",
    "\n",
    "### 4-2. 出力\n",
    "inputで指定したフォルダ中に<b>snpclipper_[実行日時]</b>が作成され、</br>\n",
    "そのフォルダ中に指定した条件で処理した結果の<b>3_results_without_gubbins</b>と<b>5_results_with_gubbins</b>が生成されます。</br>\n",
    "※<b>5_results_with_gubbins</b>はGubbinsを実行していた場合のみ生成されます。</br>\n",
    "※もしGubbinsも追加で実行したい場合は、<b>3. Gubbinsの追加実行</b>を実施してください。</br>\n",
    "※出力ファイルの詳細は、<b>SNPcaster.ipynbの9.2出力</b>をご覧ください。</br>"
   ]
  },
  {
   "cell_type": "markdown",
   "id": "822c10d7-f8e3-4e3f-a28b-46eaf7888e58",
   "metadata": {},
   "source": [
    "## 5. SNPを用いた解析\n",
    "\n",
    "### 5.1. ハプロタイプネットワーク図の作製\n",
    "次のいずれかのファイルをPopARTで開いて解析を行います。\n",
    "<br>\n",
    "- 3_results_without_gubbins \n",
    "    - final_snp.nex\n",
    "    - final_snp_woRef.nex\n",
    "- 5_results_with_gubbins\n",
    "    - final_snp_with_gubbins.nex\n",
    "    - final_snp_with_gubbins_woRef.nex\n",
    "<br>\n",
    "※参照配列を除いた図を作りたいときには、”woRef”とついているファイルを使用します。\n",
    "<br>\n",
    "\n",
    "### 5.2. 系統樹の作製\n",
    "次のいずれかのファイルを用います。(5はGubbins実行時のみ生成されます)\n",
    "- 3_results_without_gubbins\n",
    "    - final_snp.fasta\n",
    "    - final_snp_woRef.fasta\n",
    "- 5_results_with_gubbins\n",
    "    - final_snp_with_gubbins.fasta\n",
    "    - final_snp_with_gubbins_woRef.fasta\n",
    "\n",
    "#### RAxML-NGを用いる →  <font color=\"Lime\"><b>Go to 6.1.1.</b></font>\n",
    "#### IQTREEを用いる →  <font color=\"Lime\"><b>Go to 6.1.2.</b></font>\n",
    "\n",
    "### 5.3. 菌株間SNPの計算\n",
    "次のファイルに菌株間のSNPの数が記載されています。メモ帳、Excel等で開くことができます。\n",
    "- 3_results_without_gubbins \n",
    "    - dist_final_snp.tsv \n",
    "- 5_results_with_gubbins\n",
    "    - dist_final_snp_with_gubbins.tsv\n"
   ]
  },
  {
   "cell_type": "markdown",
   "id": "032b67e0-f961-4430-ab2c-af90c155a712",
   "metadata": {},
   "source": [
    "## 6. 系統樹の作製\n",
    "\n",
    "得られたSNPファイルを用いて、RAxML-NGまたはIQTREEを用いて最尤法系統樹を作製します。<br>\n",
    "* 必要に応じて、参照配列の名前（デフォルトではRef）を変更します。\n",
    "* 参照配列を含まない系統樹を作製する際には、”woRef”とついているファイルを使用します。\n",
    "\n",
    "### 6.1. 最尤法系統樹作製\n",
    "※RAxML-NG、IQTREEのどちらを用いても問題ありません。"
   ]
  },
  {
   "cell_type": "markdown",
   "id": "222a39df-4043-4e25-9943-8cbcdf63e60e",
   "metadata": {
    "tags": []
   },
   "source": [
    "#### 6.1.1 RAxML-NG\n",
    "ModelTest-NGによる最適な塩基置換モデル選択を行い、最適なモデルを用いてRAxML-NGで最尤法系統樹の作製を行います。\n",
    "\n",
    "  - 下記セルで、「input=」の後に解析するSNPファイルのパスを入れてください。\n",
    "  - 例. 'snpcaster_20240115_094704_list_test/3_results_without_gubbins/final_snp.fasta'<br>\n",
    "    ↑<u><font color=\"Red\">\"20240115_094704_list_test\"の部分は、解析ごとに異なります</u></font>ので注意してください。\n",
    "\n",
    "<br>\n",
    "\n",
    "- オプション\n",
    "<br>\n",
    "\n",
    "|パラメータ|必須か|概要|\n",
    "|---|---|---|\n",
    "|input|●|入力ファイル (例 xxx.fasta)。|\n",
    "|threads|●|modeltest-ngのスレッド数 (例 12) ※ raxml-ngのスレッド数は自動選択|\n",
    "|bootstrap|-|bootstrap (デフォルトは1,000)|\n",
    "\n",
    "<br>\n",
    "\n",
    "<font color=\"Tomato\">────────────── 　↓↓↓ 　***コマンド実行***　 ↓↓↓　 ──────────────</font><br>\n",
    "※ ログは、実行ディレクトリの`raxml-ng.log`を参照してください。（<u><font color=\"Red\">***実行のたびに上書きされます。***</u></font>）\n"
   ]
  },
  {
   "cell_type": "code",
   "execution_count": null,
   "id": "732dd987-bcff-44f5-90e1-c4bb16f8b5a6",
   "metadata": {
    "tags": []
   },
   "outputs": [],
   "source": [
    "####################################################\n",
    "# パラメータを設定\n",
    "####################################################\n",
    "input='snpcaster_20240115_094704_list_test/3_results_without_gubbins/final_snp.fasta'\n",
    "# Gubbinsを実行した結果を使いたい場合は、以下を使用してください。\n",
    "# 上記のinputの行を削除⇒以下の行頭の# を消す⇒'snpcaster_20240115_094704_list_test'の箇所をSNPcasterの結果フォルダ名に変更してください。\n",
    "# input = \"snpcaster_20240115_094704_list_test/5_results_with_gubbins/final_snp_after_gubbins.fasta\"\n",
    "threads=8\n",
    "bootstrap=1000\n",
    "\n",
    "####################################################\n",
    "# Run raxml-ng\n",
    "####################################################\n",
    "!bash raxml-ng.sh $input $threads $bootstrap > raxml-ng.log\n",
    "!echo 'Complete!'"
   ]
  },
  {
   "cell_type": "markdown",
   "id": "a5fd38a7-21da-4f07-9b4c-da8d56ce99e8",
   "metadata": {},
   "source": [
    "<font color=\"Tomato\">────────────────────────────────────────────</font>\n",
    "\n",
    "\n",
    "### 6.1.2. IQTREE 実行\n",
    "IQTREEによる塩基置換モデル選択および最適なモデルでの最尤法系統樹の作製を自動で行います。\n",
    "\n",
    "  - 下記セルで、「input=」の後に解析するSNPファイルのパスを入れてください。\n",
    "  - 例. 'snpcaster_20240115_094704_list_test/3_results_without_gubbins/final_snp.fasta'<br>\n",
    "    ↑<u><font color=\"Red\">\"20240115_094704_list_test\"の部分は、解析ごとに異なります</u></font>ので注意してください。\n",
    "\n",
    "<br>\n",
    "\n",
    "- オプション\n",
    "\n",
    "|変数|必須か|概要|\n",
    "|---|---|---|\n",
    "|input|●|入力ファイル (例 xxx.fasta)。|\n",
    "|bootstrap|-|Ultrafast bootstrap replicates (>=1,000) (デフォルトで、1,000)|\n",
    "\n",
    "- 出力\n",
    "  - 作製されたiqtreeフォルダ（`iqtree_results_日付_時間`）の中に出力されます。\n",
    "\n",
    "<br>\n",
    "\n",
    "<font color=\"Tomato\">────────────── 　↓↓↓ 　***コマンド実行***　 ↓↓↓　 ──────────────</font><br>\n",
    "※`input`の変数について、<u><font color=\"Red\">***適切なファイルパスになっているか***</u></font>必ず確認してください。<br>\n",
    "※ ログは、実行ディレクトリの`iqtree.log`を参照してください。（<u><font color=\"Red\">***実行のたびに上書きされます。***</u></font>）"
   ]
  },
  {
   "cell_type": "code",
   "execution_count": null,
   "id": "fb471024",
   "metadata": {},
   "outputs": [],
   "source": [
    "####################################################\n",
    "# パラメータを設定\n",
    "####################################################\n",
    "input='snpcaster_20240115_094704_list_test/3_results_without_gubbins/final_snp.fasta'\n",
    "# Gubbinsを実行した結果を使いたい場合は、以下を使用してください。\n",
    "# 上記のinputの行を削除⇒以下の行頭の# を消す⇒'snpcaster_20240115_094704_list_test'の箇所をSNPcasterの結果フォルダ名に変更してください。\n",
    "# input = \"snpcaster_20240115_094704_list_test/5_results_with_gubbins/final_snp_after_gubbins.fasta\"\n",
    "bootstrap=1000\n",
    "\n",
    "####################################################\n",
    "# Run iqtree\n",
    "####################################################\n",
    "!bash iqtree.sh $input $bootstrap > iqtree.log\n",
    "!echo 'Complete!'"
   ]
  },
  {
   "cell_type": "markdown",
   "id": "65f9e63c",
   "metadata": {},
   "source": [
    "<font color=\"Tomato\">────────────────────────────────────────────</font>\n",
    "\n",
    "\n",
    "### 6.2. 系統樹ファイルの出力先\n",
    "\n",
    "**解析フォルダ**に以下の系統樹結果フォルダと系統樹ファイルが作製されます。\n",
    "\n",
    "- RAxML-NG:\n",
    "  - フォルダ名： raxml\\_results\\_[日付]\\_[時間]\n",
    "  - フォルダ内の`final_snp_without_recombination.fasta_bootstrap.nwk`がブートストラップ値付きの系統樹ファイルです。\n",
    "- IQTREE:\n",
    "  - フォルダ名： iqtree\\_results\\_[日付]\\_[時間]\n",
    "  - フォルダ内の`final_snp_without_recombination.fasta.contree`がブートストラップ値付きの系統樹ファイルです。\n",
    "\n",
    "### 6.3. 系統樹ファイルの確認\n",
    "\n",
    "系統樹ファイルを、MEGA、CLC Genomics Workbench等で開きます。<br>\n",
    "MEGAで画像保存する場合は、Image/Copy to Clipboard。MEGAでRootを含む画像保存する場合は、Rootとなる線を選んで「Place Root on Branch」を押して、「Show Subtree Separately」を使う。<br>\n",
    "<br>"
   ]
  }
 ],
 "metadata": {
  "kernelspec": {
   "display_name": "Python 3 (ipykernel)",
   "language": "python",
   "name": "python3"
  },
  "language_info": {
   "codemirror_mode": {
    "name": "ipython",
    "version": 3
   },
   "file_extension": ".py",
   "mimetype": "text/x-python",
   "name": "python",
   "nbconvert_exporter": "python",
   "pygments_lexer": "ipython3",
   "version": "3.11.10"
  }
 },
 "nbformat": 4,
 "nbformat_minor": 5
}
