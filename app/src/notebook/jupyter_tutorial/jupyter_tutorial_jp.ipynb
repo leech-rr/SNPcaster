{
 "cells": [
  {
   "cell_type": "markdown",
   "id": "44d6f4a3-8562-40fd-80bb-3a1aa4efeba0",
   "metadata": {},
   "source": [
    "# ***Jupyter Lab チュートリアル***"
   ]
  },
  {
   "cell_type": "markdown",
   "id": "abaeae50-297b-4ace-a4e1-e7984c298b3b",
   "metadata": {},
   "source": [
    "------------\n",
    "## Jupyterの基本構成  \n",
    "1. ノートブック  \n",
    "\n",
    "    * プログラムの作成、実行結果、グラフ、作業メモや関連するドキュメントなどを、ノートブックと呼ばれるファイル形式にまとめて、一元的に管理します。\n",
    "\n",
    "        <img src=\"contents/start_notebook.png\" width=\"70%\">\n",
    "\n",
    "<br>\n",
    "\n",
    "2. カーネル  \n",
    "\n",
    "    * カーネルとはPythonやの実行を行っているコアの部分のことであり、 オブジェクトの内容をメモリ格納していたり、計算をしていたりする機能のことです。     \n",
    "    ブラウザ画面を閉じるだけではカーネルは終了されません。  \n",
    "\n",
    "<br>\n",
    "\n",
    "3. セル  \n",
    "\n",
    "    * jupyterでは、ノートブック中のセルと呼ばれる部分に、ソースコードや説明を記載します。  \n",
    "    下記画像の四角の部分がセルとなります。\n",
    "\n",
    "        <img src=\"contents/new_cell.png\" width=\"70%\">\n",
    "\n",
    "<br>\n",
    "\n",
    "4. セルの実行形式  \n",
    "\n",
    "    * セルには、実行形式によって種類があります。実行形式は、下記のリストから「Code」「Markdown」「Raw」を選択することができ、各項目の役割は以下のようになります。\n",
    "    \n",
    "        - Code  \n",
    "            PythonやRなどのプログラム言語のコードや、OSコマンドを記述し実行する際に選択します。\n",
    "            プログラムを入力し、 [Shift]＋[Enter] を押すとプログラムが実行されて結果が表示されます。 \n",
    "        - Markdown  \n",
    "            マークダウン形式でドキュメントとして保存したい場合に選択します。メモとして利用したり、プログラムに関する説明や補足事項などをプログラムといっしょに保存し共有する場合などに利用できます。  \n",
    "        - Raw  \n",
    "            単純なテキストとして使用できるが、ほとんど使用しません。\n",
    "\n",
    "<br>\n",
    "\n",
    "5. セル構成  \n",
    "\n",
    "    * Codeセルの上にMarkdownセルを置き、解析に対する説明を加えています。\n",
    "    コードの実行後は、実行結果がコードセルの下に表示されます。\n",
    "\n",
    "    \n",
    "        <img src=\"contents/QSP_Cells.png\" width=\"70%\">\n"
   ]
  },
  {
   "cell_type": "markdown",
   "id": "33705214-0cbb-4af6-a32c-8c5cd6c44ac8",
   "metadata": {},
   "source": [
    "-----------\n",
    "## ノートブックの編集\n",
    "1. セルの追加\n",
    "\n",
    "    * ノートブック上部にある「+」ボタンを押下すると、選択中のセルの下部に、新しいセルが追加されます。<br>\n",
    "    * 新しいセルを選択し、希望する実行形式を変更してください。「Code」「Markdown」「Raw」の3種類です。デフォルトは「Code」セルになります。\n",
    "\n",
    "<img src=\"contents/add_cell.png\" width=\"70%\">"
   ]
  },
  {
   "cell_type": "markdown",
   "id": "18784787",
   "metadata": {},
   "source": [
    "2. セルの実行\n",
    "    * 実行したいセルを選択し、ノートブック上部の「▶️」(Run Cell)ボタンを押すと、そのセルのコマンドが実行されます。\n",
    "\n",
    "\n",
    "3. 実行状態の確認\n",
    "\n",
    "    * エラーで止まった際は、セル左側にある[　]の中が空白になります。\n",
    "    * 失敗した場合は、[＊]と[　] の境目を確認してください。\n",
    "    * エラーが出たら、そのCodeセルの修正を行ってください。修正後は、先述の「2.セルの実行」で実行可能です。\n",
    "    * また、右上の円グラフマークをクリックすると、進捗状況を見ることができます。\n",
    "    * Chromeタブのアイコンについても、実行中は砂時計マークになります。\n"
   ]
  },
  {
   "cell_type": "markdown",
   "id": "7d0c3295",
   "metadata": {},
   "source": [
    "-----------\n",
    "## 新しい解析をスタート\n",
    "\n",
    "1. 新しい解析フォルダの作成\n",
    "\n",
    "    * 左のメニューバーから、「00.1_StartAnalysisProject.ipynb」をクリックして開きます。このnotebookでは、解析の作業フォルダを作成します。\n",
    "    * Codeセル中の`projectdir`を編集し、入力が完了したらnotebookを全実行してください。（上部の**▶️▶️マーク** をクリック）\n",
    "\n",
    "    * 実行が完了すると、`projectdir`に指定した名前の作業フォルダが、新しく作成されます。\n",
    "\n",
    "\n",
    "    * <img src=\"contents/click_StartAnalysis.png\" width=\"70%\">"
   ]
  },
  {
   "cell_type": "markdown",
   "id": "4886107a",
   "metadata": {},
   "source": [
    "2. 最初の解析ノートブックを開始\n",
    "\n",
    "    * 「1. 新しい解析フォルダの作成」で作成された、新しい解析フォルダをクリックし、開きます。\n",
    "    \n",
    "    * 「grape_qc_assembly.ipynb」または「SNPcaster.ipynb」のノートブックを開き、記載に従って解析を進めてください。"
   ]
  }
 ],
 "metadata": {
  "kernelspec": {
   "display_name": "Python 3 (ipykernel)",
   "language": "python",
   "name": "python3"
  },
  "language_info": {
   "codemirror_mode": {
    "name": "ipython",
    "version": 3
   },
   "file_extension": ".py",
   "mimetype": "text/x-python",
   "name": "python",
   "nbconvert_exporter": "python",
   "pygments_lexer": "ipython3",
   "version": "3.9.18"
  }
 },
 "nbformat": 4,
 "nbformat_minor": 5
}
