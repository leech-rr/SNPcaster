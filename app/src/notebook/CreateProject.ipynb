{
 "cells": [
  {
   "cell_type": "markdown",
   "id": "8fd1c267-de94-49ba-b141-f462e5395199",
   "metadata": {},
   "source": [
    "# ***Create Project***"
   ]
  },
  {
   "cell_type": "markdown",
   "id": "8b4bc73a-c1df-4bea-88a1-fa4c635a0071",
   "metadata": {
    "tags": []
   },
   "source": [
    "### 1. 例のように解析プロジェクト名を入力してください\n",
    "- 例. projectdir = \"new_analysis\" <br>\n",
    "        →\"new_analysis\"という名前のフォルダが作製されます\n",
    "- スペースは含めないでください\n",
    "- 既存のフォルダ名は使わないでください"
   ]
  },
  {
   "cell_type": "code",
   "execution_count": 1,
   "id": "993a7265-cc6f-4d14-9fbe-dc9a157fdb8e",
   "metadata": {
    "tags": []
   },
   "outputs": [],
   "source": [
    "import shutil"
   ]
  },
  {
   "cell_type": "code",
   "execution_count": 2,
   "id": "1127b9d4-d194-4112-9e65-cf5bcc5e9047",
   "metadata": {
    "tags": []
   },
   "outputs": [],
   "source": [
    "projectdir = \"new_analysis\""
   ]
  },
  {
   "cell_type": "markdown",
   "id": "4de2a5de-d0bb-474a-8821-1a79565c94b6",
   "metadata": {
    "tags": []
   },
   "source": [
    "### 2. 本ノートブック上部のRUN ALL(▶▶)を実行してください\n",
    "プロジェクトを開始する際に、テンプレートから必要なファイルをコピーします。  "
   ]
  },
  {
   "cell_type": "code",
   "execution_count": 3,
   "id": "88386db9-54b5-49e4-99cc-2b2506fab409",
   "metadata": {
    "tags": []
   },
   "outputs": [
    {
     "data": {
      "text/plain": [
       "'./new_analysis'"
      ]
     },
     "execution_count": 3,
     "metadata": {},
     "output_type": "execute_result"
    }
   ],
   "source": [
    "shutil.copytree('./template', f'./{projectdir}')"
   ]
  },
  {
   "cell_type": "markdown",
   "id": "a54b0752-be04-4b7a-be0f-937190904f38",
   "metadata": {
    "tags": []
   },
   "source": [
    "### 3. 作成されたプロジェクトフォルダに移動して、ノートブックを実行してください\n",
    "- 作成したプロジェクトフォルダは動かさないでください。ノートブックでエラーが発生する場合がございます。"
   ]
  }
 ],
 "metadata": {
  "kernelspec": {
   "display_name": "Python 3 (ipykernel)",
   "language": "python",
   "name": "python3"
  },
  "language_info": {
   "codemirror_mode": {
    "name": "ipython",
    "version": 3
   },
   "file_extension": ".py",
   "mimetype": "text/x-python",
   "name": "python",
   "nbconvert_exporter": "python",
   "pygments_lexer": "ipython3",
   "version": "3.11.10"
  }
 },
 "nbformat": 4,
 "nbformat_minor": 5
}
